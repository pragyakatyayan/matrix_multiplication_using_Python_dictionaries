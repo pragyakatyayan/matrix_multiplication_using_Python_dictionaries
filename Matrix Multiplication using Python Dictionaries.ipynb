{
 "cells": [
  {
   "cell_type": "markdown",
   "metadata": {},
   "source": [
    "### Matrix Multplication using Python Dictionaries"
   ]
  },
  {
   "cell_type": "markdown",
   "metadata": {},
   "source": [
    "This program was built just to experiment with Python Dictionaries and perform Matrix Multiplications between two matrices of any dimensions*. It visualizes input and output matrices in simplest form. The code has no dependencies and takes all inputs from users, from dimensions of input matrices to all its elements.\n",
    "\n",
    "\\* number of rows of second input matrix is by default equal to the number of columns of first input matrix."
   ]
  },
  {
   "cell_type": "code",
   "execution_count": 1,
   "metadata": {},
   "outputs": [
    {
     "name": "stdout",
     "output_type": "stream",
     "text": [
      "Number of Rows in Matrix A: 2\n",
      "Number of Columns in Matrix A: 3\n",
      "\n",
      "Number of Columns in Matrix B: 1\n",
      "\n",
      "Matrix A dimensions are 2 x 3\n",
      "Matrix B dimensions are 3 x 1\n"
     ]
    }
   ],
   "source": [
    "# Matrix A Dimensions\n",
    "rows_A = int(input('Number of Rows in Matrix A: '))\n",
    "columns_A = int(input('Number of Columns in Matrix A: '))\n",
    "\n",
    "# Matrix B Dimensions\n",
    "rows_B = columns_A\n",
    "columns_B = int(input('\\nNumber of Columns in Matrix B: '))\n",
    "\n",
    "print('\\nMatrix A dimensions are %d x %d' % (rows_A, columns_A))\n",
    "print('Matrix B dimensions are %d x %d' % (rows_B, columns_B))"
   ]
  },
  {
   "cell_type": "code",
   "execution_count": 2,
   "metadata": {},
   "outputs": [
    {
     "name": "stdout",
     "output_type": "stream",
     "text": [
      "Matrix A: \n",
      "\n",
      "\tA11 \tA12 \tA13 \n",
      "\tA21 \tA22 \tA23 \n",
      "\n",
      "Matrix B: \n",
      "\n",
      "\tB11 \n",
      "\tB21 \n",
      "\tB31 \n"
     ]
    }
   ],
   "source": [
    "# Visualizing the matrices for  [Optional]\n",
    "r_A = range(rows_A)\n",
    "c_A = range(columns_A)\n",
    "print('Matrix A: \\n')\n",
    "for i in r_A:\n",
    "    for j in c_A:\n",
    "        print('\\tA'+str(i+1)+str(j+1), end=' ')\n",
    "    print()\n",
    "    \n",
    "r_B = range(rows_B)\n",
    "c_B = range(columns_B)\n",
    "print('\\nMatrix B: \\n')\n",
    "for x in r_B:\n",
    "    for y in c_B:\n",
    "        print('\\tB'+str(x+1)+str(y+1), end=' ')\n",
    "    print()"
   ]
  },
  {
   "cell_type": "code",
   "execution_count": 3,
   "metadata": {},
   "outputs": [
    {
     "name": "stdout",
     "output_type": "stream",
     "text": [
      "Matrix A: \n",
      "\n",
      "\tElement A11: 1\n",
      "\tElement A12: 2\n",
      "\tElement A13: 3\n",
      "\n",
      "\tElement A21: 4\n",
      "\tElement A22: 5\n",
      "\tElement A23: 6\n",
      "\n",
      "\t 1 \t 2 \t 3 \n",
      "\t 4 \t 5 \t 6 \n"
     ]
    }
   ],
   "source": [
    "# Feed the values in MatriX-A\n",
    "r_A = range(rows_A)\n",
    "c_A = range(columns_A)\n",
    "print('Matrix A: \\n')\n",
    "dict_A = {}\n",
    "for i in r_A:\n",
    "    for j in c_A:\n",
    "        num = int(input('\\tElement A%d%d: ' % (i+1, j+1)))\n",
    "        dict_A['A'+str(i+1)+str(j+1)] = num\n",
    "    print()\n",
    "\n",
    "for i in r_A:\n",
    "    for j in c_A:\n",
    "        print('\\t',dict_A['A'+str(i+1)+str(j+1)],end=' ')\n",
    "    print()"
   ]
  },
  {
   "cell_type": "code",
   "execution_count": 5,
   "metadata": {},
   "outputs": [
    {
     "name": "stdout",
     "output_type": "stream",
     "text": [
      "Matrix B: \n",
      "\n",
      "\tElement B11: 1\n",
      "\n",
      "\tElement B21: 2\n",
      "\n",
      "\tElement B31: 3\n",
      "\n",
      "\t 1 \n",
      "\t 2 \n",
      "\t 3 \n"
     ]
    }
   ],
   "source": [
    "# Feed the values in MatriX-B\n",
    "r_B = range(rows_B)\n",
    "c_B = range(columns_B)\n",
    "print('Matrix B: \\n')\n",
    "dict_B = {}\n",
    "for i in r_B:\n",
    "    for j in c_B:\n",
    "        num = int(input('\\tElement B%d%d: ' % (i+1, j+1)))\n",
    "        dict_B['B'+str(i+1)+str(j+1)] = num\n",
    "    print()\n",
    "\n",
    "for i in r_B:\n",
    "    for j in c_B:\n",
    "        print('\\t',dict_B['B'+str(i+1)+str(j+1)],end=' ')\n",
    "    print()"
   ]
  },
  {
   "cell_type": "code",
   "execution_count": 6,
   "metadata": {},
   "outputs": [
    {
     "name": "stdout",
     "output_type": "stream",
     "text": [
      "\n",
      "\n",
      "\t 14 \n",
      "\t 32 \n"
     ]
    }
   ],
   "source": [
    "# Multiplying the two matrices\n",
    "dict_C={}\n",
    "for i in r_A:\n",
    "    for j in c_B:\n",
    "        result=0\n",
    "        for k in r_B:\n",
    "            result = result + dict_A['A'+str(i+1)+str(k+1)]*dict_B['B'+str(k+1)+str(j+1)] \n",
    "        dict_C['C'+str(i+1)+str(j+1)] = result\n",
    "    print()\n",
    "    \n",
    "for i in r_A:\n",
    "    for j in c_B:\n",
    "        print('\\t',dict_C['C'+str(i+1)+str(j+1)],end=' ')\n",
    "    print()"
   ]
  },
  {
   "cell_type": "markdown",
   "metadata": {},
   "source": [
    "======================================================================================================================="
   ]
  }
 ],
 "metadata": {
  "kernelspec": {
   "display_name": "Python 3",
   "language": "python",
   "name": "python3"
  },
  "language_info": {
   "codemirror_mode": {
    "name": "ipython",
    "version": 3
   },
   "file_extension": ".py",
   "mimetype": "text/x-python",
   "name": "python",
   "nbconvert_exporter": "python",
   "pygments_lexer": "ipython3",
   "version": "3.7.6"
  }
 },
 "nbformat": 4,
 "nbformat_minor": 4
}
